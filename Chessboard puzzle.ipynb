{
 "cells": [
  {
   "cell_type": "markdown",
   "metadata": {},
   "source": [
    "# Chessboard puzzle\n",
    "https://www.youtube.com/watch?v=as7Gkm7Y7h4"
   ]
  },
  {
   "cell_type": "markdown",
   "metadata": {},
   "source": [
    "- Gavin and Jamie came up with a slicing algorithm based on a simple solution for a 2x2 grid where the coin is hidden in location (r,c).\n",
    "- We can use the parity of the top row to determine r and the parity of the first column to determine c\n",
    "- Any combination can be achieved by flipping a coin in the top row or column and if they are correct, you flip the bottom right coin, which has no impact.\n",
    "- The idea generalises to the 8x8 chessboard as follows\n",
    "- First apply the 2x2 algorithm to the four quadrants of the board\n",
    "- This can be achieved by flipping one of the 16 coins in the top left, top right or bottom left quadrants\n",
    "- This narrows down the location to 16 squares and we can choose one of 16 coins to flip\n",
    "- For the second step, imagine the four quadrants piled on top of each other in layers\n",
    "- Apply the 2x2 algorithm using the topmost two rows and the leftmost two columns, looking down through all four layers. This ignores the squares in the bottom right sub-quadrants\n",
    "- This narrows the location down to 4 squares and we can chose between 4 squares to flip\n",
    "- Repeat the second step using layers of 4 by 4 squares to narrow down to one final square"
   ]
  },
  {
   "cell_type": "code",
   "execution_count": 2,
   "metadata": {},
   "outputs": [],
   "source": [
    "import numpy as np\n",
    "import matplotlib.pylab as plt\n",
    "%matplotlib inline"
   ]
  },
  {
   "cell_type": "markdown",
   "metadata": {},
   "source": [
    "## First set up a numbering scheme for the squares\n",
    "The calculations can be vastly simplified by setting up a convenient number scheme for the squares. We link the position of the square to its coordinates in base 4. Each quadrant is labels 0,1,2,3, recursively. We will call this scheme n."
   ]
  },
  {
   "cell_type": "code",
   "execution_count": 24,
   "metadata": {},
   "outputs": [
    {
     "data": {
      "text/plain": [
       "array([[[ 0,  1,  4,  5],\n",
       "        [ 2,  3,  6,  7],\n",
       "        [ 8,  9, 12, 13],\n",
       "        [10, 11, 14, 15]],\n",
       "\n",
       "       [[16, 17, 20, 21],\n",
       "        [18, 19, 22, 23],\n",
       "        [24, 25, 28, 29],\n",
       "        [26, 27, 30, 31]],\n",
       "\n",
       "       [[32, 33, 36, 37],\n",
       "        [34, 35, 38, 39],\n",
       "        [40, 41, 44, 45],\n",
       "        [42, 43, 46, 47]],\n",
       "\n",
       "       [[48, 49, 52, 53],\n",
       "        [50, 51, 54, 55],\n",
       "        [56, 57, 60, 61],\n",
       "        [58, 59, 62, 63]]])"
      ]
     },
     "execution_count": 24,
     "metadata": {},
     "output_type": "execute_result"
    }
   ],
   "source": [
    "n = np.arange(4).reshape(2,2)\n",
    "n = np.append(np.stack([n,n+4],axis=1).reshape(2,4),np.stack([n+8,n+12],axis=1).reshape(2,4),axis=0)\n",
    "n = np.stack([n,n+16,n+32,n+48],axis=0)\n",
    "n"
   ]
  },
  {
   "cell_type": "markdown",
   "metadata": {},
   "source": [
    "### This is resulting the numbering of the squares on the chessboard"
   ]
  },
  {
   "cell_type": "code",
   "execution_count": 81,
   "metadata": {},
   "outputs": [
    {
     "data": {
      "text/plain": [
       "array([[ 0,  1,  4,  5, 16, 17, 20, 21],\n",
       "       [ 2,  3,  6,  7, 18, 19, 22, 23],\n",
       "       [ 8,  9, 12, 13, 24, 25, 28, 29],\n",
       "       [10, 11, 14, 15, 26, 27, 30, 31],\n",
       "       [32, 33, 36, 37, 48, 49, 52, 53],\n",
       "       [34, 35, 38, 39, 50, 51, 54, 55],\n",
       "       [40, 41, 44, 45, 56, 57, 60, 61],\n",
       "       [42, 43, 46, 47, 58, 59, 62, 63]])"
      ]
     },
     "execution_count": 81,
     "metadata": {},
     "output_type": "execute_result"
    }
   ],
   "source": [
    "board = np.append(np.append(n[0],n[1],axis=1),np.append(n[2],n[3],axis=1),axis=0)\n",
    "board"
   ]
  },
  {
   "cell_type": "markdown",
   "metadata": {},
   "source": [
    "## 2x2 algorithm"
   ]
  },
  {
   "cell_type": "code",
   "execution_count": 5,
   "metadata": {},
   "outputs": [],
   "source": [
    "def squareID(Row,Column):\n",
    "    \"\"\"Takes 2 slices that can be multidimensional\n",
    "    first slice is a row and second slice is a column\n",
    "    and returns the square they point to\n",
    "    parity of rows gives row and parity of columns goves colum\n",
    "    partity obtain by by adding XOR (1+sum)%2\"\"\"\n",
    "    return Row.sum()%2 + Column.sum()%2 *2\n",
    "            \n",
    "def flip(From,To):\n",
    "            \"\"\"Which slice to flip to change squareID from From to To\"\"\"\n",
    "            flipper = [[3,1,2,0],\n",
    "                       [1,3,0,2],\n",
    "                       [2,0,3,1],\n",
    "                       [0,2,1,3]]\n",
    "            return flipper[From][To]\n",
    "            "
   ]
  },
  {
   "cell_type": "code",
   "execution_count": 6,
   "metadata": {},
   "outputs": [
    {
     "data": {
      "text/plain": [
       "0"
      ]
     },
     "execution_count": 6,
     "metadata": {},
     "output_type": "execute_result"
    }
   ],
   "source": [
    "squareID(np.array([0,0]),np.array([0,0]))\n",
    "#squareID(slices),flip(squareID(slices),3)"
   ]
  },
  {
   "cell_type": "markdown",
   "metadata": {},
   "source": [
    "## A base conversion function"
   ]
  },
  {
   "cell_type": "markdown",
   "metadata": {},
   "source": [
    "It will be helpful to convert to base 4 indentify locations according to slices and to base 2 to define rows and columns according to the 2x2 algrorithm"
   ]
  },
  {
   "cell_type": "code",
   "execution_count": 7,
   "metadata": {},
   "outputs": [],
   "source": [
    "def base(coin,base=4,l=3):\n",
    "    \"\"\"Convert a base 10 number to desired base returning array length l \"\"\"\n",
    "    based = [] if coin>0 else [0]\n",
    "    while coin>0:\n",
    "        based += [coin%base]\n",
    "        coin = coin//base\n",
    "    based = [0]*(l-len(based))+list(reversed(based))\n",
    "    return based"
   ]
  },
  {
   "cell_type": "markdown",
   "metadata": {},
   "source": [
    "# Algorithm"
   ]
  },
  {
   "cell_type": "code",
   "execution_count": 15,
   "metadata": {},
   "outputs": [],
   "source": [
    "def solve(coins, hidden):\n",
    "    \"\"\"Calculate location of coin to flip\"\"\"\n",
    "    hidden4 = base(hidden,4,3)\n",
    "    coinsN = coins[n]\n",
    "    Q1 = squareID(coinsN[:2,:4,:],  coinsN[::2,:,:4])\n",
    "    Q2 = squareID(coinsN[:,0:2,:], coinsN[:,:,0:2])\n",
    "    Q3 = squareID(coinsN[:,::2,:], coinsN[:,:,::2])\n",
    "    print(f'Initial parities [{Q1}, {Q2}, {Q3}] locating {16*Q1+4*Q2+Q3}') \n",
    "    square = np.array([flip(i,j) for i,j in zip([Q1,Q2,Q3],hidden4)])\n",
    "    print(f'Flip coin {(square*np.array([16,4,1])).sum()} to obtain new parities: {list(base(hidden,4,3))} locating key at {hidden}')\n",
    "    return(square*np.array([16,4,1])).sum()\n"
   ]
  },
  {
   "cell_type": "markdown",
   "metadata": {},
   "source": [
    "# Generate a random set of coins and hide the key"
   ]
  },
  {
   "cell_type": "code",
   "execution_count": 199,
   "metadata": {},
   "outputs": [
    {
     "name": "stdout",
     "output_type": "stream",
     "text": [
      "Initial parities [1, 0, 1] locating 17\n",
      "Flip coin 15 to obtain new parities: [2, 0, 1] locating key at 33\n",
      "[[ 0  1  4  5 16 17 20 21]\n",
      " [ 2  3  6  7 18 19 22 23]\n",
      " [ 8  9 12 13 24 25 28 29]\n",
      " [10 11 14 15 26 27 30 31]\n",
      " [32 33 36 37 48 49 52 53]\n",
      " [34 35 38 39 50 51 54 55]\n",
      " [40 41 44 45 56 57 60 61]\n",
      " [42 43 46 47 58 59 62 63]]\n"
     ]
    },
    {
     "data": {
      "image/png": "[encoded data removed]",
      "text/plain": [
       "<Figure size 576x576 with 1 Axes>"
      ]
     },
     "metadata": {
      "needs_background": "light"
     },
     "output_type": "display_data"
    }
   ],
   "source": [
    "coins = np.random.choice([0,1],64)\n",
    "hidden = np.random.choice(np.arange(64))\n",
    "f = solve(coins,hidden)\n",
    "\n",
    "fpos = np.flip(np.argwhere(board==f)[0])+np.array([-0.25,0.25])\n",
    "kpos = np.flip(np.argwhere(board==hidden)[0])+np.array([-0.25,0.25])\n",
    "\n",
    "\n",
    "rect1 = plt.Rectangle((-0.5,-0.5),7.99,4,fill=None,edgecolor=\"r\", alpha=0.5,lw=8)\n",
    "rect2 = plt.Rectangle((-0.5,-0.5),4,7.99,fill=None,edgecolor=\"r\", alpha=0.5,lw=8)\n",
    "rect3 = plt.Rectangle((-0.49,-0.49),7.99,2,fill=None,edgecolor=\"g\", alpha=0.5,lw=8)\n",
    "rect4 = plt.Rectangle((-0.49,-0.49),2,7.99,fill=None,edgecolor=\"g\", alpha=0.5,lw=8)\n",
    "rect5 = plt.Rectangle((-0.49,3.49),7.99,2,fill=None,edgecolor=\"g\", alpha=0.5,lw=8)\n",
    "rect6 = plt.Rectangle((3.49,-0.49),2,7.99,fill=None,edgecolor=\"g\", alpha=0.5,lw=8)\n",
    "\n",
    "fig, ax = plt.subplots(figsize=(8,8))\n",
    "ax.add_patch(plt.Rectangle((-0.5,-0.5),7.99,7.99,fill=None,edgecolor=\"k\", alpha=0.5,lw=1))\n",
    "ax.add_patch(rect3)\n",
    "ax.add_patch(rect4)\n",
    "ax.add_patch(rect5)\n",
    "ax.add_patch(rect6)\n",
    "ax.add_patch(rect1)\n",
    "ax.add_patch(rect2)\n",
    "\n",
    "\n",
    "plt.axis('off')\n",
    "ax.imshow(coins.reshape(8,8),cmap='hot');\n",
    "ax.text(*fpos,'*',c='c',fontsize=50);\n",
    "ax.text(*kpos,'K',c='r',fontsize=50);\n",
    "\n",
    "print(board)"
   ]
  },
  {
   "cell_type": "markdown",
   "metadata": {},
   "source": [
    "# Notes - checking that slices select the correct elements"
   ]
  },
  {
   "cell_type": "code",
   "execution_count": 198,
   "metadata": {
    "scrolled": true
   },
   "outputs": [
    {
     "data": {
      "text/plain": [
       "(array([[[ 0,  1,  4,  5],\n",
       "         [ 2,  3,  6,  7],\n",
       "         [ 8,  9, 12, 13],\n",
       "         [10, 11, 14, 15]],\n",
       " \n",
       "        [[16, 17, 20, 21],\n",
       "         [18, 19, 22, 23],\n",
       "         [24, 25, 28, 29],\n",
       "         [26, 27, 30, 31]]]), array([[[ 0,  1,  4,  5],\n",
       "         [ 2,  3,  6,  7],\n",
       "         [ 8,  9, 12, 13],\n",
       "         [10, 11, 14, 15]],\n",
       " \n",
       "        [[32, 33, 36, 37],\n",
       "         [34, 35, 38, 39],\n",
       "         [40, 41, 44, 45],\n",
       "         [42, 43, 46, 47]]]))"
      ]
     },
     "execution_count": 198,
     "metadata": {},
     "output_type": "execute_result"
    }
   ],
   "source": [
    "# Quadrants of 16\n",
    "b[:2,:4,:], b[::2,:,:4]"
   ]
  },
  {
   "cell_type": "code",
   "execution_count": 291,
   "metadata": {},
   "outputs": [
    {
     "data": {
      "text/plain": [
       "(array([[ 0,  1,  4,  5],\n",
       "        [16, 17, 20, 21],\n",
       "        [32, 33, 36, 37],\n",
       "        [48, 49, 52, 53]]), array([[ 0,  2,  8, 10],\n",
       "        [16, 18, 24, 26],\n",
       "        [32, 34, 40, 42],\n",
       "        [48, 50, 56, 58]]))"
      ]
     },
     "execution_count": 291,
     "metadata": {},
     "output_type": "execute_result"
    }
   ],
   "source": [
    "# First 2 rows and first 2 colums\n",
    "b[:,0,:], b[:,:,0]"
   ]
  },
  {
   "cell_type": "code",
   "execution_count": 293,
   "metadata": {},
   "outputs": [
    {
     "data": {
      "text/plain": [
       "(array([[[ 0,  1,  4,  5],\n",
       "         [ 8,  9, 12, 13]],\n",
       " \n",
       "        [[16, 17, 20, 21],\n",
       "         [24, 25, 28, 29]],\n",
       " \n",
       "        [[32, 33, 36, 37],\n",
       "         [40, 41, 44, 45]],\n",
       " \n",
       "        [[48, 49, 52, 53],\n",
       "         [56, 57, 60, 61]]]), array([[[ 0,  4],\n",
       "         [ 2,  6],\n",
       "         [ 8, 12],\n",
       "         [10, 14]],\n",
       " \n",
       "        [[16, 20],\n",
       "         [18, 22],\n",
       "         [24, 28],\n",
       "         [26, 30]],\n",
       " \n",
       "        [[32, 36],\n",
       "         [34, 38],\n",
       "         [40, 44],\n",
       "         [42, 46]],\n",
       " \n",
       "        [[48, 52],\n",
       "         [50, 54],\n",
       "         [56, 60],\n",
       "         [58, 62]]]))"
      ]
     },
     "execution_count": 293,
     "metadata": {},
     "output_type": "execute_result"
    }
   ],
   "source": [
    "# Quadrants of 1 rows and columns\n",
    "b[:,::2,:], b[:,:,::2]"
   ]
  },
  {
   "cell_type": "code",
   "execution_count": null,
   "metadata": {},
   "outputs": [],
   "source": []
  }
 ],
 "metadata": {
  "kernelspec": {
   "display_name": "Python 3",
   "language": "python",
   "name": "python3"
  },
  "language_info": {
   "codemirror_mode": {
    "name": "ipython",
    "version": 3
   },
   "file_extension": ".py",
   "mimetype": "text/x-python",
   "name": "python",
   "nbconvert_exporter": "python",
   "pygments_lexer": "ipython3",
   "version": "3.7.2"
  }
 },
 "nbformat": 4,
 "nbformat_minor": 2
}
